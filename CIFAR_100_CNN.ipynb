{
  "cells": [
    {
      "cell_type": "code",
      "execution_count": null,
      "metadata": {
        "id": "pEhbuwOq-dT6",
        "colab": {
          "base_uri": "https://localhost:8080/"
        },
        "outputId": "2514a510-ecfa-4072-92a3-49b65ad844c9"
      },
      "outputs": [
        {
          "output_type": "stream",
          "name": "stdout",
          "text": [
            "Collecting kornia\n",
            "  Downloading kornia-0.8.1-py2.py3-none-any.whl.metadata (17 kB)\n",
            "Collecting kornia_rs>=0.1.9 (from kornia)\n",
            "  Downloading kornia_rs-0.1.9-cp312-cp312-manylinux_2_17_x86_64.manylinux2014_x86_64.whl.metadata (11 kB)\n",
            "Requirement already satisfied: packaging in /usr/local/lib/python3.12/dist-packages (from kornia) (25.0)\n",
            "Requirement already satisfied: torch>=1.9.1 in /usr/local/lib/python3.12/dist-packages (from kornia) (2.8.0+cu126)\n",
            "Requirement already satisfied: filelock in /usr/local/lib/python3.12/dist-packages (from torch>=1.9.1->kornia) (3.19.1)\n",
            "Requirement already satisfied: typing-extensions>=4.10.0 in /usr/local/lib/python3.12/dist-packages (from torch>=1.9.1->kornia) (4.15.0)\n",
            "Requirement already satisfied: setuptools in /usr/local/lib/python3.12/dist-packages (from torch>=1.9.1->kornia) (75.2.0)\n",
            "Requirement already satisfied: sympy>=1.13.3 in /usr/local/lib/python3.12/dist-packages (from torch>=1.9.1->kornia) (1.13.3)\n",
            "Requirement already satisfied: networkx in /usr/local/lib/python3.12/dist-packages (from torch>=1.9.1->kornia) (3.5)\n",
            "Requirement already satisfied: jinja2 in /usr/local/lib/python3.12/dist-packages (from torch>=1.9.1->kornia) (3.1.6)\n",
            "Requirement already satisfied: fsspec in /usr/local/lib/python3.12/dist-packages (from torch>=1.9.1->kornia) (2025.3.0)\n",
            "Requirement already satisfied: nvidia-cuda-nvrtc-cu12==12.6.77 in /usr/local/lib/python3.12/dist-packages (from torch>=1.9.1->kornia) (12.6.77)\n",
            "Requirement already satisfied: nvidia-cuda-runtime-cu12==12.6.77 in /usr/local/lib/python3.12/dist-packages (from torch>=1.9.1->kornia) (12.6.77)\n",
            "Requirement already satisfied: nvidia-cuda-cupti-cu12==12.6.80 in /usr/local/lib/python3.12/dist-packages (from torch>=1.9.1->kornia) (12.6.80)\n",
            "Requirement already satisfied: nvidia-cudnn-cu12==9.10.2.21 in /usr/local/lib/python3.12/dist-packages (from torch>=1.9.1->kornia) (9.10.2.21)\n",
            "Requirement already satisfied: nvidia-cublas-cu12==12.6.4.1 in /usr/local/lib/python3.12/dist-packages (from torch>=1.9.1->kornia) (12.6.4.1)\n",
            "Requirement already satisfied: nvidia-cufft-cu12==11.3.0.4 in /usr/local/lib/python3.12/dist-packages (from torch>=1.9.1->kornia) (11.3.0.4)\n",
            "Requirement already satisfied: nvidia-curand-cu12==10.3.7.77 in /usr/local/lib/python3.12/dist-packages (from torch>=1.9.1->kornia) (10.3.7.77)\n",
            "Requirement already satisfied: nvidia-cusolver-cu12==11.7.1.2 in /usr/local/lib/python3.12/dist-packages (from torch>=1.9.1->kornia) (11.7.1.2)\n",
            "Requirement already satisfied: nvidia-cusparse-cu12==12.5.4.2 in /usr/local/lib/python3.12/dist-packages (from torch>=1.9.1->kornia) (12.5.4.2)\n",
            "Requirement already satisfied: nvidia-cusparselt-cu12==0.7.1 in /usr/local/lib/python3.12/dist-packages (from torch>=1.9.1->kornia) (0.7.1)\n",
            "Requirement already satisfied: nvidia-nccl-cu12==2.27.3 in /usr/local/lib/python3.12/dist-packages (from torch>=1.9.1->kornia) (2.27.3)\n",
            "Requirement already satisfied: nvidia-nvtx-cu12==12.6.77 in /usr/local/lib/python3.12/dist-packages (from torch>=1.9.1->kornia) (12.6.77)\n",
            "Requirement already satisfied: nvidia-nvjitlink-cu12==12.6.85 in /usr/local/lib/python3.12/dist-packages (from torch>=1.9.1->kornia) (12.6.85)\n",
            "Requirement already satisfied: nvidia-cufile-cu12==1.11.1.6 in /usr/local/lib/python3.12/dist-packages (from torch>=1.9.1->kornia) (1.11.1.6)\n",
            "Requirement already satisfied: triton==3.4.0 in /usr/local/lib/python3.12/dist-packages (from torch>=1.9.1->kornia) (3.4.0)\n",
            "Requirement already satisfied: mpmath<1.4,>=1.1.0 in /usr/local/lib/python3.12/dist-packages (from sympy>=1.13.3->torch>=1.9.1->kornia) (1.3.0)\n",
            "Requirement already satisfied: MarkupSafe>=2.0 in /usr/local/lib/python3.12/dist-packages (from jinja2->torch>=1.9.1->kornia) (3.0.2)\n",
            "Downloading kornia-0.8.1-py2.py3-none-any.whl (1.1 MB)\n",
            "\u001b[2K   \u001b[90m━━━━━━━━━━━━━━━━━━━━━━━━━━━━━━━━━━━━━━━━\u001b[0m \u001b[32m1.1/1.1 MB\u001b[0m \u001b[31m20.0 MB/s\u001b[0m eta \u001b[36m0:00:00\u001b[0m\n",
            "\u001b[?25hDownloading kornia_rs-0.1.9-cp312-cp312-manylinux_2_17_x86_64.manylinux2014_x86_64.whl (2.8 MB)\n",
            "\u001b[2K   \u001b[90m━━━━━━━━━━━━━━━━━━━━━━━━━━━━━━━━━━━━━━━━\u001b[0m \u001b[32m2.8/2.8 MB\u001b[0m \u001b[31m55.4 MB/s\u001b[0m eta \u001b[36m0:00:00\u001b[0m\n",
            "\u001b[?25hInstalling collected packages: kornia_rs, kornia\n",
            "Successfully installed kornia-0.8.1 kornia_rs-0.1.9\n"
          ]
        }
      ],
      "source": [
        "import numpy as np\n",
        "import torch\n",
        "import torchvision\n",
        "import torch.nn as nn\n",
        "import torch.nn.functional as F\n",
        "from torchvision import datasets, transforms\n",
        "from torch.utils.data import DataLoader, random_split\n",
        "import torchsummary\n",
        "import matplotlib.pyplot as plt\n",
        "!pip install kornia\n",
        "import kornia"
      ]
    },
    {
      "cell_type": "code",
      "execution_count": null,
      "metadata": {
        "colab": {
          "base_uri": "https://localhost:8080/"
        },
        "id": "AVfigwXxRIDg",
        "outputId": "62567561-abba-4d5a-bfbf-f1ace3db2134"
      },
      "outputs": [
        {
          "output_type": "execute_result",
          "data": {
            "text/plain": [
              "device(type='cuda')"
            ]
          },
          "metadata": {},
          "execution_count": 2
        }
      ],
      "source": [
        "device = torch.device('cuda' if torch.cuda.is_available() else 'cpu')\n",
        "device"
      ]
    },
    {
      "cell_type": "code",
      "execution_count": null,
      "metadata": {
        "id": "AeqGbfOPwzuE"
      },
      "outputs": [],
      "source": [
        "# get mean\n",
        "\n",
        "def calc_mean_std():\n",
        "    overallmean = {}\n",
        "    overallstd = {}\n",
        "\n",
        "    finalmeans = []\n",
        "    finalstds = []\n",
        "\n",
        "    for X, _ in training_loader:\n",
        "        for channel in range(X.shape[1]):\n",
        "            if str(channel) not in list(overallmean.keys()):\n",
        "                overallmean[str(channel)] = 0\n",
        "                overallstd[str(channel)] = 0\n",
        "            overallmean[str(channel)] += X[:, channel, :, :].mean()\n",
        "            overallstd[str(channel)] += X[:, channel, :, :].std()\n",
        "\n",
        "    for _, value in overallstd.items():\n",
        "        value /= len(training_loader)\n",
        "        finalstds.append(value.item())\n",
        "\n",
        "    for _, value in overallmean.items():\n",
        "        value /= len(training_loader)\n",
        "        finalmeans.append(value.item())\n",
        "\n",
        "    return (finalmeans, finalstds)\n",
        "\n",
        "# calc_mean_std()"
      ]
    },
    {
      "cell_type": "code",
      "execution_count": null,
      "metadata": {
        "id": "D9GUtzNMCb1p"
      },
      "outputs": [],
      "source": [
        "transform = transforms.Compose([\n",
        "    transforms.ToTensor(),\n",
        "    # transforms.RandomHorizontalFlip(p=0.3), #using kornia\n",
        "    # transforms.RandomRotation(degrees=15),\n",
        "    transforms.Normalize(mean=(0.507127583026886, 0.4866163730621338, 0.440956175327301),\n",
        "                         std=(0.2662975490093231, 0.2555457651615143, 0.2750532031059265))\n",
        "])"
      ]
    },
    {
      "cell_type": "code",
      "execution_count": null,
      "metadata": {
        "id": "CLMbpqGlBtEi",
        "colab": {
          "base_uri": "https://localhost:8080/"
        },
        "outputId": "d43ad584-fe95-4c95-d3b8-cedc14870e6f"
      },
      "outputs": [
        {
          "output_type": "stream",
          "name": "stderr",
          "text": [
            "100%|██████████| 169M/169M [00:03<00:00, 43.5MB/s]\n"
          ]
        }
      ],
      "source": [
        "#Download dataset\n",
        "\n",
        "training_set = datasets.CIFAR100('./data', train=True, download=True, transform=transform)\n",
        "testing_set = datasets.CIFAR100('./data', train=False, download=True, transform=transform)\n",
        "\n",
        "subsets = random_split(testing_set, [5000, 5000])\n",
        "\n",
        "dev_set = subsets[0]\n",
        "testing_set = subsets[1]"
      ]
    },
    {
      "cell_type": "code",
      "execution_count": null,
      "metadata": {
        "id": "UT1XC2soCmBe"
      },
      "outputs": [],
      "source": [
        "#Dataloaders\n",
        "\n",
        "training_loader = DataLoader(training_set, batch_size=256, shuffle=True, pin_memory=True)\n",
        "dev_loader = DataLoader(dev_set, batch_size=20000, shuffle=False, pin_memory=True)\n",
        "testing_loader = DataLoader(testing_set, batch_size=20000, shuffle=False, pin_memory=True)"
      ]
    },
    {
      "cell_type": "code",
      "execution_count": null,
      "metadata": {
        "colab": {
          "base_uri": "https://localhost:8080/"
        },
        "id": "IDQv9gRSEIPI",
        "outputId": "c0e5150a-1cb4-4dee-d991-1801730a3be6"
      },
      "outputs": [
        {
          "output_type": "execute_result",
          "data": {
            "text/plain": [
              "(50000, 5000, 5000)"
            ]
          },
          "metadata": {},
          "execution_count": 7
        }
      ],
      "source": [
        "len(training_loader.dataset), len(testing_loader.dataset), len(dev_loader.dataset)"
      ]
    },
    {
      "cell_type": "code",
      "execution_count": null,
      "metadata": {
        "colab": {
          "base_uri": "https://localhost:8080/",
          "height": 228
        },
        "id": "K3S5CQYCExlI",
        "outputId": "b41d371f-a259-406b-bb3d-223ada817010"
      },
      "outputs": [
        {
          "output_type": "stream",
          "name": "stderr",
          "text": [
            "WARNING:matplotlib.image:Clipping input data to the valid range for imshow with RGB data ([0..1] for floats or [0..255] for integers). Got range [-1.9042239..2.0324934].\n"
          ]
        },
        {
          "output_type": "display_data",
          "data": {
            "text/plain": [
              "<Figure size 200x200 with 1 Axes>"
            ],
            "image/png": "[encoded data removed]"
          },
          "metadata": {}
        }
      ],
      "source": [
        "# visualizing some examples\n",
        "\n",
        "random_index = np.random.choice(5000)\n",
        "\n",
        "pixels, label = training_set[random_index]\n",
        "pixels, label = pixels.cpu().numpy(), label\n",
        "\n",
        "pixels = np.transpose(pixels, (1, 2, 0))\n",
        "\n",
        "plt.figure(figsize=(2, 2))\n",
        "plt.imshow(pixels)\n",
        "plt.axis('off')\n",
        "plt.show()"
      ]
    },
    {
      "cell_type": "code",
      "execution_count": null,
      "metadata": {
        "id": "UL1dVy_JI2zA"
      },
      "outputs": [],
      "source": [
        "class CNN(nn.Module):\n",
        "    def __init__(self):\n",
        "        super().__init__()\n",
        "        self.augmentations_on_gpu = nn.Sequential(\n",
        "            kornia.augmentation.RandomHorizontalFlip(p=0.5),\n",
        "            kornia.augmentation.RandomRotation(degrees=12),\n",
        "            kornia.augmentation.ColorJitter(brightness=0.2, contrast=0.2, saturation=0.2, hue=0.1, p=0.5),\n",
        "            kornia.augmentation.RandomCrop(size=(32,32),padding=4),\n",
        "\n",
        "        )\n",
        "\n",
        "        self.feature_extractors = nn.Sequential(\n",
        "\n",
        "            nn.Conv2d(in_channels=3, out_channels=256, kernel_size=3, stride=1, padding=1),\n",
        "            nn.BatchNorm2d(256),\n",
        "            nn.ReLU(),\n",
        "            nn.MaxPool2d(kernel_size=2, stride=2),\n",
        "\n",
        "            nn.Conv2d(in_channels=256, out_channels=256, kernel_size=3, stride=1, padding=1),\n",
        "            nn.BatchNorm2d(256),\n",
        "            nn.ReLU(),\n",
        "            nn.MaxPool2d(kernel_size=1, stride=1),# just get per square pool\n",
        "\n",
        "            # nn.Conv2d(in_channels=512, out_channels=256, kernel_size=1, stride=1, padding=0), # resize back to 256 channels\n",
        "            # nn.BatchNorm2d(256),\n",
        "            # nn.ReLU(),\n",
        "\n",
        "            nn.Conv2d(in_channels=256, out_channels=512, kernel_size=3, stride=1, padding=2),\n",
        "            nn.BatchNorm2d(512),\n",
        "            nn.ReLU(),\n",
        "            nn.MaxPool2d(kernel_size=2, stride=2),\n",
        "\n",
        "        ).to(device)\n",
        "\n",
        "        self.flatten = nn.Flatten()\n",
        "\n",
        "        self.classifier = nn.Sequential(\n",
        "            nn.Linear(self.get_in_features(), 512),\n",
        "            nn.BatchNorm1d(512),\n",
        "            nn.ReLU(),\n",
        "            nn.Dropout(p=0.5),\n",
        "\n",
        "            nn.Linear(512, 256),\n",
        "            nn.BatchNorm1d(256),\n",
        "            nn.ReLU(),\n",
        "            nn.Dropout(p=0.5),\n",
        "\n",
        "            nn.Linear(256, 100)\n",
        "        )\n",
        "\n",
        "    def forward(self, x):\n",
        "        if self.training:\n",
        "            x = self.augmentations_on_gpu(x)\n",
        "        x = self.feature_extractors(x)\n",
        "        x = self.flatten(x)\n",
        "        x = self.classifier(x)\n",
        "        return x\n",
        "\n",
        "    def get_in_features(self):\n",
        "        dummy = torch.randn((1, 3, 32, 32)).to(device)\n",
        "        temp = self.feature_extractors(dummy)\n",
        "        shape = self.flatten(temp).shape[1]\n",
        "        return shape"
      ]
    },
    {
      "cell_type": "code",
      "execution_count": null,
      "metadata": {
        "id": "rxS8E61VRDIY"
      },
      "outputs": [],
      "source": [
        "model = CNN().to(device)"
      ]
    },
    {
      "cell_type": "code",
      "execution_count": null,
      "metadata": {
        "id": "UB4prkayTrNz"
      },
      "outputs": [],
      "source": [
        "def get_accuracy(loader):\n",
        "    model.eval()\n",
        "    correct = 0\n",
        "\n",
        "    with torch.no_grad():\n",
        "        for X, y in loader:\n",
        "            X, y = X.to(device), y.to(device)\n",
        "\n",
        "            output = model(X)\n",
        "            preds = (torch.argmax(output, 1) == y).sum().item()\n",
        "            correct += preds\n",
        "\n",
        "    model.train()\n",
        "    return correct / len(loader.dataset)"
      ]
    },
    {
      "cell_type": "code",
      "execution_count": null,
      "metadata": {
        "colab": {
          "base_uri": "https://localhost:8080/"
        },
        "id": "LCj9uCfgQ-xA",
        "outputId": "f3f0ca78-15de-44ef-8f77-16b0cae420ca"
      },
      "outputs": [
        {
          "output_type": "stream",
          "name": "stdout",
          "text": [
            "[Epoch: 1] | loss: 4.236144157088533   training accuracy: 0.11826   dev accuracy: 0.1132 | lr: 0.00994459753267812\n",
            "[Epoch: 2] | loss: 3.8611503900313866   training accuracy: 0.18492   dev accuracy: 0.1822 | lr: 0.009779754323328192\n",
            "[Epoch: 3] | loss: 3.6499911887305125   training accuracy: 0.22504   dev accuracy: 0.2184 | lr: 0.009509529358847656\n",
            "[Epoch: 4] | loss: 3.478471432413374   training accuracy: 0.2711   dev accuracy: 0.2608 | lr: 0.009140576474687263\n",
            "[Epoch: 5] | loss: 3.3350908038567524   training accuracy: 0.29162   dev accuracy: 0.288 | lr: 0.008681980515339461\n",
            "[Epoch: 6] | loss: 3.189793254647936   training accuracy: 0.33506   dev accuracy: 0.3288 | lr: 0.008145033635316127\n",
            "[Epoch: 7] | loss: 3.0789247167353726   training accuracy: 0.37446   dev accuracy: 0.358 | lr: 0.0075429572488279585\n",
            "[Epoch: 8] | loss: 2.988439849444798   training accuracy: 0.38744   dev accuracy: 0.3688 | lr: 0.006890576474687262\n"
          ]
        }
      ],
      "source": [
        "optimizer = torch.optim.AdamW(model.parameters(), lr=0.01, weight_decay=0)\n",
        "loss_fn = nn.CrossEntropyLoss()\n",
        "# lr_scheduler = torch.optim.lr_scheduler.StepLR(optimizer=optimizer, step_size=10, gamma=0.2)\n",
        "lr_scheduler = torch.optim.lr_scheduler.CosineAnnealingLR(optimizer=optimizer, T_max=20, eta_min=1e-3)\n",
        "\n",
        "def train(epochs):\n",
        "    model.train()\n",
        "    for epoch in range(epochs):\n",
        "        epoch_loss = 0\n",
        "        for X, y in training_loader:\n",
        "            X, y = X.to(device), y.to(device) #convert to gpu if available\n",
        "\n",
        "            optimizer.zero_grad()\n",
        "            output = model(X)\n",
        "\n",
        "            loss = loss_fn(output, y)\n",
        "            epoch_loss += loss.item()\n",
        "\n",
        "            loss.backward()\n",
        "            optimizer.step()\n",
        "\n",
        "        lr_scheduler.step()\n",
        "        epoch_loss /= len(training_loader)\n",
        "        # !nvidia-smi\n",
        "        print(f'[Epoch: {epoch+1}] | loss: {epoch_loss}   training accuracy: {get_accuracy(training_loader)}   dev accuracy: {get_accuracy(dev_loader)} | lr: {optimizer.param_groups[0]['lr']}')\n",
        "\n",
        "train(epochs=20)"
      ]
    },
    {
      "cell_type": "code",
      "source": [
        "# torch.cuda.empty_cache()"
      ],
      "metadata": {
        "id": "VyZZJjt9sZR1"
      },
      "execution_count": null,
      "outputs": []
    }
  ],
  "metadata": {
    "accelerator": "GPU",
    "colab": {
      "gpuType": "T4",
      "provenance": [],
      "authorship_tag": "ABX9TyPoHKFEoCJYkn7JDKNhCZaF"
    },
    "kernelspec": {
      "display_name": "Python 3",
      "name": "python3"
    },
    "language_info": {
      "name": "python"
    }
  },
  "nbformat": 4,
  "nbformat_minor": 0
}